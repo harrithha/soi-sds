{
  "cells": [
    {
      "cell_type": "code",
      "execution_count": 7,
      "metadata": {
        "id": "TK8vu7LRQPay"
      },
      "outputs": [],
      "source": [
        "#Importing necessary Libraries\n",
        "\n",
        "import pandas as pd\n",
        "import numpy as np\n",
        "import sklearn as skl\n",
        "from sklearn.ensemble import RandomForestClassifier as RFC\n",
        "from sklearn.model_selection import train_test_split\n",
        "from sklearn.neural_network import MLPClassifier\n",
        "from sklearn.preprocessing import StandardScaler\n",
        "from sklearn.metrics import confusion_matrix, classification_report"
      ]
    },
    {
      "cell_type": "code",
      "execution_count": 8,
      "metadata": {
        "id": "mz5mMFjzpcLr"
      },
      "outputs": [],
      "source": [
        "import os"
      ]
    },
    {
      "cell_type": "markdown",
      "metadata": {
        "id": "tad5-KI8ZNgA"
      },
      "source": [
        "## Data reading and preprocessing"
      ]
    },
    {
      "cell_type": "code",
      "execution_count": 9,
      "metadata": {
        "colab": {
          "base_uri": "https://localhost:8080/"
        },
        "id": "fjP-nm3FQkp9",
        "outputId": "712e86cc-5fd5-4c4a-fa9b-78837f0096dd"
      },
      "outputs": [
        {
          "output_type": "stream",
          "name": "stdout",
          "text": [
            "Index(['tce_period', 'tce_time0bk', 'tce_duration', 'tce_depth',\n",
            "       'tce_model_snr', 'tce_prad', 'tce_eqt', 'tce_steff', 'tce_slogg',\n",
            "       'tce_sradius', 'av_training_set'],\n",
            "      dtype='object')\n"
          ]
        }
      ],
      "source": [
        "data = pd.read_csv(\"data_full.csv\")\n",
        "\n",
        "#Dropping unnecessary columns\n",
        "delete = [\"kepid\",\"tce_plnt_num\",\"tce_rogue_flag\",\"tce_insol\",\"tce_impact\",\"tce_insol_err\",\"tce_period_err\",\"tce_time0bk_err\",\"tce_impact_err\",\"tce_duration_err\",\"tce_depth_err\",\"tce_prad_err\",\"tce_eqt_err\",\"tce_eqt_err\",\"tce_steff_err\",\"tce_slogg_err\",\"tce_sradius_err\"]\n",
        "data_new = data.drop(delete,axis=1)\n",
        "\n",
        "#Deleting rows having unknown labels\n",
        "data_new = data_new[data_new['av_training_set'] != 'UNK']\n",
        "\n",
        "#Deleting rows having no values\n",
        "data_new.dropna(subset=['tce_period', 'tce_time0bk', 'tce_duration', 'tce_depth',\n",
        "       'tce_model_snr', 'tce_prad', 'tce_eqt', 'tce_steff', 'tce_slogg',\n",
        "       'tce_sradius', 'av_training_set'], inplace=True) \n",
        "\n",
        "print(data_new.columns)"
      ]
    },
    {
      "cell_type": "code",
      "execution_count": 10,
      "metadata": {
        "colab": {
          "base_uri": "https://localhost:8080/"
        },
        "id": "sWnADvmoLVQB",
        "outputId": "6096abf6-00c6-4d42-ce28-3e7e61911594"
      },
      "outputs": [
        {
          "output_type": "stream",
          "name": "stdout",
          "text": [
            "['AFP' 'UNK' 'PC' 'NTP' nan]\n"
          ]
        }
      ],
      "source": [
        "a = data['av_training_set'].unique()\n",
        "print(a)"
      ]
    },
    {
      "cell_type": "code",
      "execution_count": 11,
      "metadata": {
        "id": "ezuUoTLF1iM7"
      },
      "outputs": [],
      "source": [
        "#Train and test split\n",
        "Y = data_new.iloc[:,-1]\n",
        "X = data_new.iloc[:,:-1]\n",
        "\n",
        "train_X, test_X, train_Y, test_Y = train_test_split(X,Y,test_size = 0.15)\n"
      ]
    },
    {
      "cell_type": "markdown",
      "metadata": {
        "id": "DpuarzXmaFoc"
      },
      "source": [
        "## Random Forest Classifier"
      ]
    },
    {
      "cell_type": "code",
      "execution_count": 12,
      "metadata": {
        "colab": {
          "base_uri": "https://localhost:8080/"
        },
        "id": "sO93m08mzN2U",
        "outputId": "be1963f0-ee76-4333-a6d6-e43f371cb98d"
      },
      "outputs": [
        {
          "output_type": "execute_result",
          "data": {
            "text/plain": [
              "RandomForestClassifier(n_estimators=13000)"
            ]
          },
          "metadata": {},
          "execution_count": 12
        }
      ],
      "source": [
        "model = RFC(n_estimators=13000)\n",
        "model.fit(train_X,train_Y)"
      ]
    },
    {
      "cell_type": "code",
      "execution_count": 13,
      "metadata": {
        "colab": {
          "base_uri": "https://localhost:8080/"
        },
        "id": "9fohvL0pQpE-",
        "outputId": "1e6c3659-616d-4f2e-bfe8-20b344c22e6f"
      },
      "outputs": [
        {
          "output_type": "execute_result",
          "data": {
            "text/plain": [
              "1.0"
            ]
          },
          "metadata": {},
          "execution_count": 13
        }
      ],
      "source": [
        "model.score(train_X,train_Y)"
      ]
    },
    {
      "cell_type": "code",
      "execution_count": 14,
      "metadata": {
        "colab": {
          "base_uri": "https://localhost:8080/"
        },
        "id": "IKIz_dwA4RaF",
        "outputId": "6b87c1c2-aa9a-4705-b29e-9524fc34aebc"
      },
      "outputs": [
        {
          "output_type": "execute_result",
          "data": {
            "text/plain": [
              "0.7815384615384615"
            ]
          },
          "metadata": {},
          "execution_count": 14
        }
      ],
      "source": [
        "model.score(test_X,test_Y)"
      ]
    },
    {
      "cell_type": "code",
      "execution_count": 15,
      "metadata": {
        "id": "5_EVg7Iui91f"
      },
      "outputs": [],
      "source": [
        "pred_Y = model.predict(test_X)"
      ]
    },
    {
      "cell_type": "code",
      "execution_count": 16,
      "metadata": {
        "colab": {
          "base_uri": "https://localhost:8080/"
        },
        "id": "0EODo2OEjChj",
        "outputId": "f19ef85e-3095-448f-9b09-3c59a65d7106"
      },
      "outputs": [
        {
          "output_type": "execute_result",
          "data": {
            "text/plain": [
              "array([[891,  16,  74],\n",
              "       [197, 106,   3],\n",
              "       [ 64,   1, 273]])"
            ]
          },
          "metadata": {},
          "execution_count": 16
        }
      ],
      "source": [
        "cm = confusion_matrix(test_Y, pred_Y)\n",
        "cm"
      ]
    },
    {
      "cell_type": "code",
      "execution_count": 17,
      "metadata": {
        "colab": {
          "base_uri": "https://localhost:8080/",
          "height": 73
        },
        "id": "kD1H536QF4g1",
        "outputId": "381d14dd-5402-4c64-ea35-522d5db003f7"
      },
      "outputs": [
        {
          "output_type": "execute_result",
          "data": {
            "text/plain": [
              "'              precision    recall  f1-score   support\\n\\n         AFP       0.77      0.91      0.84       981\\n         NTP       0.86      0.35      0.49       306\\n          PC       0.78      0.81      0.79       338\\n\\n    accuracy                           0.78      1625\\n   macro avg       0.81      0.69      0.71      1625\\nweighted avg       0.79      0.78      0.76      1625\\n'"
            ],
            "application/vnd.google.colaboratory.intrinsic+json": {
              "type": "string"
            }
          },
          "metadata": {},
          "execution_count": 17
        }
      ],
      "source": [
        "classification_report(test_Y, pred_Y)"
      ]
    },
    {
      "cell_type": "code",
      "execution_count": 18,
      "metadata": {
        "id": "2CcTRCshTu4f"
      },
      "outputs": [],
      "source": [
        "import pickle\n",
        "filename = \"rfc.pkl\"\n",
        "with open(filename,\"wb\") as f:\n",
        "  pickle.dump(model,f)"
      ]
    },
    {
      "cell_type": "markdown",
      "metadata": {
        "id": "bFZs5r6sd55U"
      },
      "source": [
        "## Neural Network"
      ]
    },
    {
      "cell_type": "code",
      "execution_count": 19,
      "metadata": {
        "id": "Pp01GYxD9332"
      },
      "outputs": [],
      "source": [
        "#Normalising train set\n",
        "scaler = StandardScaler().fit(train_X)\n"
      ]
    },
    {
      "cell_type": "code",
      "execution_count": 20,
      "metadata": {
        "colab": {
          "base_uri": "https://localhost:8080/"
        },
        "id": "SQy0Gr8M7LPN",
        "outputId": "8af55c37-8670-4ee1-d152-bac9eccf558e"
      },
      "outputs": [
        {
          "output_type": "execute_result",
          "data": {
            "text/plain": [
              "MLPClassifier(hidden_layer_sizes=(64, 64, 64))"
            ]
          },
          "metadata": {},
          "execution_count": 20
        }
      ],
      "source": [
        "neural = MLPClassifier(hidden_layer_sizes=(64,64,64))\n",
        "neural.fit(train_X,train_Y)"
      ]
    },
    {
      "cell_type": "code",
      "execution_count": 21,
      "metadata": {
        "colab": {
          "base_uri": "https://localhost:8080/"
        },
        "id": "m4iYPAbk72A0",
        "outputId": "5f7a27a4-aaf5-43c6-8083-fccc84f652f8"
      },
      "outputs": [
        {
          "output_type": "execute_result",
          "data": {
            "text/plain": [
              "0.7401976756815466"
            ]
          },
          "metadata": {},
          "execution_count": 21
        }
      ],
      "source": [
        "neural.score(train_X,train_Y)\n"
      ]
    },
    {
      "cell_type": "code",
      "execution_count": 22,
      "metadata": {
        "colab": {
          "base_uri": "https://localhost:8080/"
        },
        "id": "3ARLq2nDeVh_",
        "outputId": "c6038083-805d-4511-b01c-b724690bd305"
      },
      "outputs": [
        {
          "output_type": "execute_result",
          "data": {
            "text/plain": [
              "0.7169230769230769"
            ]
          },
          "metadata": {},
          "execution_count": 22
        }
      ],
      "source": [
        "neural.score(test_X,test_Y)"
      ]
    },
    {
      "cell_type": "code",
      "execution_count": 23,
      "metadata": {
        "id": "bT2y3l42l5zo"
      },
      "outputs": [],
      "source": [
        "nue_pred = neural.predict(test_X)"
      ]
    },
    {
      "cell_type": "code",
      "execution_count": 24,
      "metadata": {
        "id": "zJDgvydFl_Wn",
        "colab": {
          "base_uri": "https://localhost:8080/"
        },
        "outputId": "36996175-5418-42ad-c686-1cf2dff446e7"
      },
      "outputs": [
        {
          "output_type": "execute_result",
          "data": {
            "text/plain": [
              "array([[895,  13,  73],\n",
              "       [228,  72,   6],\n",
              "       [134,   6, 198]])"
            ]
          },
          "metadata": {},
          "execution_count": 24
        }
      ],
      "source": [
        "cm_n = confusion_matrix(test_Y, nue_pred)\n",
        "cm_n"
      ]
    },
    {
      "cell_type": "code",
      "execution_count": 25,
      "metadata": {
        "colab": {
          "base_uri": "https://localhost:8080/"
        },
        "id": "wYFCk2T6QEfr",
        "outputId": "30fc5afc-9593-43d9-c835-03a17f31d3a1"
      },
      "outputs": [
        {
          "output_type": "stream",
          "name": "stdout",
          "text": [
            "              precision    recall  f1-score   support\n",
            "\n",
            "         AFP       0.71      0.91      0.80       981\n",
            "         NTP       0.79      0.24      0.36       306\n",
            "          PC       0.71      0.59      0.64       338\n",
            "\n",
            "    accuracy                           0.72      1625\n",
            "   macro avg       0.74      0.58      0.60      1625\n",
            "weighted avg       0.73      0.72      0.69      1625\n",
            "\n"
          ]
        }
      ],
      "source": [
        "print(classification_report(test_Y, nue_pred))"
      ]
    },
    {
      "cell_type": "code",
      "execution_count": 26,
      "metadata": {
        "id": "NaQEKSLzmTS9"
      },
      "outputs": [],
      "source": [
        "import pickle\n",
        "filename = \"nnc.pkl\"\n",
        "with open(filename,\"wb\") as f:\n",
        "  pickle.dump(model,f)"
      ]
    },
    {
      "cell_type": "code",
      "execution_count": null,
      "metadata": {
        "id": "msdrN-utmT-u"
      },
      "outputs": [],
      "source": [
        ""
      ]
    }
  ],
  "metadata": {
    "colab": {
      "collapsed_sections": [],
      "name": "SDS_MODEL.ipynb",
      "provenance": []
    },
    "interpreter": {
      "hash": "31cf91725cfa433ed6f8f914e51425bfdb4b966b135703f258bb56c1780b6111"
    },
    "kernelspec": {
      "display_name": "Python 3.7.13 ('srip')",
      "language": "python",
      "name": "python3"
    },
    "language_info": {
      "codemirror_mode": {
        "name": "ipython",
        "version": 3
      },
      "file_extension": ".py",
      "mimetype": "text/x-python",
      "name": "python",
      "nbconvert_exporter": "python",
      "pygments_lexer": "ipython3",
      "version": "3.7.13"
    },
    "accelerator": "GPU"
  },
  "nbformat": 4,
  "nbformat_minor": 0
}